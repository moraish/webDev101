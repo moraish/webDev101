{
 "cells": [
  {
   "cell_type": "code",
   "execution_count": 1,
   "id": "f7718c41",
   "metadata": {},
   "outputs": [],
   "source": [
    "import pandas as pd"
   ]
  },
  {
   "cell_type": "code",
   "execution_count": 10,
   "id": "08749699",
   "metadata": {},
   "outputs": [
    {
     "data": {
      "text/html": [
       "<div>\n",
       "<style scoped>\n",
       "    .dataframe tbody tr th:only-of-type {\n",
       "        vertical-align: middle;\n",
       "    }\n",
       "\n",
       "    .dataframe tbody tr th {\n",
       "        vertical-align: top;\n",
       "    }\n",
       "\n",
       "    .dataframe thead th {\n",
       "        text-align: right;\n",
       "    }\n",
       "</style>\n",
       "<table border=\"1\" class=\"dataframe\">\n",
       "  <thead>\n",
       "    <tr style=\"text-align: right;\">\n",
       "      <th></th>\n",
       "      <th></th>\n",
       "      <th></th>\n",
       "      <th></th>\n",
       "      <th>id</th>\n",
       "      <th>country</th>\n",
       "      <th>continent</th>\n",
       "      <th>capital</th>\n",
       "    </tr>\n",
       "  </thead>\n",
       "  <tbody>\n",
       "    <tr>\n",
       "      <th>0</th>\n",
       "      <th>Afghanistan</th>\n",
       "      <th>Asia</th>\n",
       "      <th>Kabul</th>\n",
       "      <td>[Kabul</td>\n",
       "      <td>Kandahar</td>\n",
       "      <td>Herat</td>\n",
       "      <td>Mazar-i-Sharif]</td>\n",
       "    </tr>\n",
       "    <tr>\n",
       "      <th>1</th>\n",
       "      <th>Albania</th>\n",
       "      <th>Europe</th>\n",
       "      <th>Tirana</th>\n",
       "      <td>[Tirana</td>\n",
       "      <td>Durres</td>\n",
       "      <td>Vlore</td>\n",
       "      <td>Shkoder]</td>\n",
       "    </tr>\n",
       "    <tr>\n",
       "      <th>2</th>\n",
       "      <th>Algeria</th>\n",
       "      <th>Africa</th>\n",
       "      <th>Algiers</th>\n",
       "      <td>[Algiers</td>\n",
       "      <td>Oran</td>\n",
       "      <td>Constantine</td>\n",
       "      <td>Annaba]</td>\n",
       "    </tr>\n",
       "    <tr>\n",
       "      <th>3</th>\n",
       "      <th>Andorra</th>\n",
       "      <th>Europe</th>\n",
       "      <th>Andorra la Vella</th>\n",
       "      <td>[Andorra la Vella</td>\n",
       "      <td>Escaldes-Engordany</td>\n",
       "      <td>Encamp</td>\n",
       "      <td>La Massana]</td>\n",
       "    </tr>\n",
       "    <tr>\n",
       "      <th>4</th>\n",
       "      <th>Angola</th>\n",
       "      <th>Africa</th>\n",
       "      <th>Luanda</th>\n",
       "      <td>[Luanda</td>\n",
       "      <td>Huambo</td>\n",
       "      <td>Lobito</td>\n",
       "      <td>Benguela]</td>\n",
       "    </tr>\n",
       "  </tbody>\n",
       "</table>\n",
       "</div>"
      ],
      "text/plain": [
       "                                                      id             country  \\\n",
       "0 Afghanistan Asia   Kabul                        [Kabul            Kandahar   \n",
       "1 Albania     Europe Tirana                      [Tirana              Durres   \n",
       "2 Algeria     Africa Algiers                    [Algiers                Oran   \n",
       "3 Andorra     Europe Andorra la Vella  [Andorra la Vella  Escaldes-Engordany   \n",
       "4 Angola      Africa Luanda                      [Luanda              Huambo   \n",
       "\n",
       "                                         continent          capital  \n",
       "0 Afghanistan Asia   Kabul                   Herat  Mazar-i-Sharif]  \n",
       "1 Albania     Europe Tirana                  Vlore         Shkoder]  \n",
       "2 Algeria     Africa Algiers           Constantine          Annaba]  \n",
       "3 Andorra     Europe Andorra la Vella       Encamp      La Massana]  \n",
       "4 Angola      Africa Luanda                 Lobito        Benguela]  "
      ]
     },
     "execution_count": 10,
     "metadata": {},
     "output_type": "execute_result"
    }
   ],
   "source": [
    "questions_raw = pd.read_csv('./Country_Quiz_with_Options.csv')\n",
    "\n",
    "df = questions_raw.copy()\n",
    "df.head()"
   ]
  },
  {
   "cell_type": "code",
   "execution_count": 5,
   "id": "e9ba8bf9",
   "metadata": {},
   "outputs": [
    {
     "data": {
      "text/plain": [
       "194"
      ]
     },
     "execution_count": 5,
     "metadata": {},
     "output_type": "execute_result"
    }
   ],
   "source": []
  },
  {
   "cell_type": "code",
   "execution_count": null,
   "id": "55ab1bd6",
   "metadata": {},
   "outputs": [],
   "source": []
  }
 ],
 "metadata": {
  "kernelspec": {
   "display_name": "Python 3 (ipykernel)",
   "language": "python",
   "name": "python3"
  },
  "language_info": {
   "codemirror_mode": {
    "name": "ipython",
    "version": 3
   },
   "file_extension": ".py",
   "mimetype": "text/x-python",
   "name": "python",
   "nbconvert_exporter": "python",
   "pygments_lexer": "ipython3",
   "version": "3.9.13"
  }
 },
 "nbformat": 4,
 "nbformat_minor": 5
}
